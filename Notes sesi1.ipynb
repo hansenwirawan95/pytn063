{
 "cells": [
  {
   "cell_type": "code",
   "execution_count": 1,
   "id": "a90d17ac-688c-4671-b995-b5bb49363b2c",
   "metadata": {},
   "outputs": [
    {
     "name": "stdout",
     "output_type": "stream",
     "text": [
      "hello world\n"
     ]
    }
   ],
   "source": [
    "print(\"hello world\")"
   ]
  },
  {
   "cell_type": "markdown",
   "id": "1b2cf517-f106-40a7-a08f-6126128a32fb",
   "metadata": {},
   "source": [
    "# Ini header  \n",
    "\n",
    "ini paragraf 1, setelah baris ini kasih spasi 2 kali  \n",
    "baru enter maka sudah di baris berikut  \n",
    "\n",
    "seletah enter 2 kali kita ke paragraf 2  \n",
    "\n",
    "ini paragraf 3 **bold** *italic*"
   ]
  },
  {
   "cell_type": "code",
   "execution_count": 2,
   "id": "b5f6d535-94b7-4874-a0a5-fdf42f90da03",
   "metadata": {},
   "outputs": [
    {
     "name": "stdout",
     "output_type": "stream",
     "text": [
      "hello guys\n"
     ]
    }
   ],
   "source": [
    "print(\"hello guys\")"
   ]
  },
  {
   "cell_type": "code",
   "execution_count": 3,
   "id": "1fff2194-4ac1-48da-919e-33f6e27aabbf",
   "metadata": {},
   "outputs": [
    {
     "name": "stdout",
     "output_type": "stream",
     "text": [
      "5\n",
      "<class 'int'>\n"
     ]
    }
   ],
   "source": [
    "print(5)  \n",
    "print(type(5))"
   ]
  },
  {
   "cell_type": "markdown",
   "id": "e9fc4cfb-7481-43cf-abfe-913891147da0",
   "metadata": {},
   "source": [
    "tipe data di python diberi kelompok namanya \"class\" dan disingkat juga. singkatannya:\n",
    "- integer -> int\n",
    "- float -> float\n",
    "- string -> str\n",
    "- boolean -> bool"
   ]
  },
  {
   "cell_type": "code",
   "execution_count": 4,
   "id": "526072c7-3f12-458f-b5c3-7f6778cbe960",
   "metadata": {},
   "outputs": [
    {
     "name": "stdout",
     "output_type": "stream",
     "text": [
      "5.5\n",
      "<class 'float'>\n"
     ]
    }
   ],
   "source": [
    "print(5.5)  \n",
    "print(type(5.5))"
   ]
  },
  {
   "cell_type": "code",
   "execution_count": 5,
   "id": "afd717a8-e96a-4f36-aa90-5a9195839c51",
   "metadata": {},
   "outputs": [
    {
     "name": "stdout",
     "output_type": "stream",
     "text": [
      "hellowwww\n",
      "<class 'str'>\n"
     ]
    }
   ],
   "source": [
    "print(\"hellowwww\")\n",
    "print(type(\"hellowwww\"))"
   ]
  },
  {
   "cell_type": "code",
   "execution_count": 9,
   "id": "4d336841-a7c9-43d2-a7b2-4275a49fd9c3",
   "metadata": {},
   "outputs": [
    {
     "name": "stdout",
     "output_type": "stream",
     "text": [
      "toys R\" US\n",
      "toys R\" US\n"
     ]
    }
   ],
   "source": [
    "print('toys R\" US')\n",
    "print(\"toys R\\\" US\")"
   ]
  },
  {
   "cell_type": "code",
   "execution_count": 11,
   "id": "dd96e261-0b27-40ea-98ef-285d00c0e62b",
   "metadata": {},
   "outputs": [
    {
     "name": "stdout",
     "output_type": "stream",
     "text": [
      "5.0\n",
      "5\n",
      "True\n"
     ]
    }
   ],
   "source": [
    "print(float(5))\n",
    "print(str(5))\n",
    "print(bool(5))"
   ]
  },
  {
   "cell_type": "code",
   "execution_count": 16,
   "id": "b280cbd3-8f3c-4124-8ff6-63d2c15c0694",
   "metadata": {},
   "outputs": [
    {
     "name": "stdout",
     "output_type": "stream",
     "text": [
      "50\n",
      "True\n",
      "50.0\n"
     ]
    }
   ],
   "source": [
    "print(int(\"50\"))\n",
    "print(bool(\"50\"))\n",
    "print(float(\"50\"))"
   ]
  },
  {
   "cell_type": "markdown",
   "id": "f7d867c7-c0ae-45ca-a5f7-6f94b9d8c286",
   "metadata": {},
   "source": [
    "# Variable Assignment"
   ]
  },
  {
   "cell_type": "code",
   "execution_count": 17,
   "id": "481a50e2-1ce4-4b8a-960d-b66c1801ee92",
   "metadata": {},
   "outputs": [],
   "source": [
    "n = 200"
   ]
  },
  {
   "cell_type": "code",
   "execution_count": 18,
   "id": "f03378d8-86d5-4e5e-82ed-0896733ba4c2",
   "metadata": {},
   "outputs": [
    {
     "name": "stdout",
     "output_type": "stream",
     "text": [
      "200\n"
     ]
    }
   ],
   "source": [
    "print(n)"
   ]
  },
  {
   "cell_type": "code",
   "execution_count": 19,
   "id": "f87bb108-b3a0-42e8-8378-47523b05196f",
   "metadata": {},
   "outputs": [],
   "source": [
    "n = \"halo\""
   ]
  },
  {
   "cell_type": "code",
   "execution_count": 20,
   "id": "4ccad16e-8106-4227-a859-029b27eee38c",
   "metadata": {},
   "outputs": [
    {
     "name": "stdout",
     "output_type": "stream",
     "text": [
      "halo\n"
     ]
    }
   ],
   "source": [
    "print(n)"
   ]
  },
  {
   "cell_type": "code",
   "execution_count": 22,
   "id": "deaa0bb2-f393-406d-8efd-c4fb695b26ca",
   "metadata": {},
   "outputs": [],
   "source": [
    "m = True"
   ]
  },
  {
   "cell_type": "code",
   "execution_count": 24,
   "id": "d72e9b78-331c-4621-83b4-fedb03e7d495",
   "metadata": {},
   "outputs": [
    {
     "name": "stdout",
     "output_type": "stream",
     "text": [
      "halo\n"
     ]
    }
   ],
   "source": [
    "print(n)"
   ]
  },
  {
   "cell_type": "code",
   "execution_count": 25,
   "id": "5900ef96-da0d-489c-a1ef-8e2c6cfd9ac3",
   "metadata": {},
   "outputs": [
    {
     "name": "stdout",
     "output_type": "stream",
     "text": [
      "halo True\n"
     ]
    }
   ],
   "source": [
    "print(n, m)"
   ]
  },
  {
   "cell_type": "code",
   "execution_count": 28,
   "id": "9b89f375-2dfc-4653-8a63-048607b34a06",
   "metadata": {},
   "outputs": [
    {
     "name": "stdout",
     "output_type": "stream",
     "text": [
      "10\n",
      "25\n"
     ]
    }
   ],
   "source": [
    "print(n)\n",
    "print(m)"
   ]
  },
  {
   "cell_type": "code",
   "execution_count": 31,
   "id": "0c61f3f6-a43d-4315-9aee-d4bc3dea810f",
   "metadata": {
    "tags": []
   },
   "outputs": [
    {
     "name": "stdout",
     "output_type": "stream",
     "text": [
      "10\n",
      "25\n"
     ]
    }
   ],
   "source": [
    "n = 10\n",
    "m = 25\n",
    "print(n)\n",
    "print(m)"
   ]
  },
  {
   "cell_type": "code",
   "execution_count": 30,
   "id": "d2903fac-9a5a-433e-8b3b-da99b8e9164a",
   "metadata": {},
   "outputs": [
    {
     "name": "stdout",
     "output_type": "stream",
     "text": [
      "10\n",
      "20\n"
     ]
    }
   ],
   "source": [
    "nilai_ray = 10\n",
    "nilai_Ray = 20\n",
    "\n",
    "print(nilai_ray)\n",
    "print(nilai_Ray)"
   ]
  },
  {
   "cell_type": "markdown",
   "id": "4a5e7b86-79f6-4cfe-a329-4151f550db50",
   "metadata": {},
   "source": [
    "# Operators in Python\n",
    "\n",
    "## Arithmetic Operators\n",
    "`+ - * / % **`\n",
    "- % modulo adalah pembagian yang disimpan sisanya saja  \n",
    "    contoh: 5 bagi 3 adalah 1 sisa 2, jadi 5 % 3 = 2\n",
    "- ** adalah pangkat"
   ]
  },
  {
   "cell_type": "code",
   "execution_count": 33,
   "id": "59ae2ede-134c-4ced-bf45-fa5759c64fd4",
   "metadata": {},
   "outputs": [
    {
     "name": "stdout",
     "output_type": "stream",
     "text": [
      "12\n",
      "-8\n",
      "20\n",
      "0.2\n"
     ]
    }
   ],
   "source": [
    "print(2+10)\n",
    "print(2-10)\n",
    "print(2*10)\n",
    "print(2/10)"
   ]
  },
  {
   "cell_type": "code",
   "execution_count": 37,
   "id": "7997417c-5879-47b7-9662-af331c34fc34",
   "metadata": {},
   "outputs": [
    {
     "name": "stdout",
     "output_type": "stream",
     "text": [
      "2\n",
      "81\n"
     ]
    }
   ],
   "source": [
    "print(10%4)\n",
    "print(3**4)"
   ]
  },
  {
   "cell_type": "code",
   "execution_count": 41,
   "id": "00c966a0-1892-419f-9a90-424a6151e400",
   "metadata": {},
   "outputs": [
    {
     "name": "stdout",
     "output_type": "stream",
     "text": [
      "7\n",
      "-3\n",
      "10\n",
      "0.4\n",
      "2\n",
      "1024\n"
     ]
    }
   ],
   "source": [
    "a = 2\n",
    "b = 5\n",
    "\n",
    "print(a+b)\n",
    "print(a-b)\n",
    "print(a*b)\n",
    "print(a/b)\n",
    "\n",
    "b = 10\n",
    "print(a%b)\n",
    "print(a**b)"
   ]
  },
  {
   "cell_type": "markdown",
   "id": "41220129-aa7d-49c8-9bae-fe489e7061bc",
   "metadata": {},
   "source": [
    "## Operator aritmatik di string"
   ]
  },
  {
   "cell_type": "code",
   "execution_count": 45,
   "id": "f5955e7f-dd29-4173-bc91-a41d1a5cf33f",
   "metadata": {},
   "outputs": [
    {
     "name": "stdout",
     "output_type": "stream",
     "text": [
      "selamat pagiari\n",
      "haloari\n",
      "selamat pagi, ari\n"
     ]
    }
   ],
   "source": [
    "salam = \"selamat pagi\"\n",
    "print(salam+\"ari\")\n",
    "print(\"halo\" + \"ari\")\n",
    "anak = \"ari\"\n",
    "print(salam+\", \"+anak)"
   ]
  },
  {
   "cell_type": "code",
   "execution_count": 46,
   "id": "9a15fb26-bfa8-4a86-98cb-73f47a73787c",
   "metadata": {},
   "outputs": [
    {
     "name": "stdout",
     "output_type": "stream",
     "text": [
      "ariariariariari!\n"
     ]
    }
   ],
   "source": [
    "print(anak*5 + \"!\")"
   ]
  },
  {
   "cell_type": "code",
   "execution_count": 50,
   "id": "3f097974-b1fd-4f1b-8ebb-7e17f7c00873",
   "metadata": {},
   "outputs": [
    {
     "name": "stdout",
     "output_type": "stream",
     "text": [
      "False\n",
      "True\n",
      "False\n",
      "2 < 5 True\n"
     ]
    }
   ],
   "source": [
    "a = 2\n",
    "b = 5\n",
    "\n",
    "print(a == b)\n",
    "print(a < b)\n",
    "print(a > b)\n",
    "print(a, \"<\", b, a < b)"
   ]
  },
  {
   "cell_type": "code",
   "execution_count": 61,
   "id": "06f76cae-3395-414b-ba8d-69edd554e2c5",
   "metadata": {},
   "outputs": [
    {
     "name": "stdout",
     "output_type": "stream",
     "text": [
      "cuma test untuk lower case, upper case, dan title case\n",
      "CUMA TEST UNTUK LOWER CASE, UPPER CASE, DAN TITLE CASE\n",
      "Cuma Test Untuk Lower Case, Upper Case, Dan Title Case\n",
      "CUMA TEST UNTUK LOWER CASE, UPPER CASE, DAN TITLE CASE\n",
      "Cuma test untuk lower case, upper case, dan title case\n"
     ]
    }
   ],
   "source": [
    "message = \"cuma test untuk lower case, upper case, dan title case\"\n",
    "\n",
    "print(message.lower())\n",
    "print(message.upper())\n",
    "print(message.title())\n",
    "print(message.swapcase())\n",
    "print(message.capitalize())"
   ]
  },
  {
   "cell_type": "code",
   "execution_count": 63,
   "id": "542a38b7-61e0-4020-be83-72a186973d6f",
   "metadata": {},
   "outputs": [],
   "source": [
    "nilai_andi = [70, 80, 90, 95]"
   ]
  },
  {
   "cell_type": "code",
   "execution_count": 64,
   "id": "fa3d17c1-6c7d-46f2-82f7-c8d67abb283f",
   "metadata": {
    "tags": []
   },
   "outputs": [
    {
     "name": "stdout",
     "output_type": "stream",
     "text": [
      "[70, 80, 90, 95]\n"
     ]
    }
   ],
   "source": [
    "print(nilai_andi)"
   ]
  },
  {
   "cell_type": "code",
   "execution_count": 71,
   "id": "d1e2a950-f82b-44a3-ae83-2c59362c28cf",
   "metadata": {},
   "outputs": [
    {
     "name": "stdout",
     "output_type": "stream",
     "text": [
      "70\n",
      "95\n",
      "80\n"
     ]
    }
   ],
   "source": [
    "print(nilai_andi[0])\n",
    "print(nilai_andi[3])\n",
    "print(nilai_andi[-3])"
   ]
  },
  {
   "cell_type": "code",
   "execution_count": 72,
   "id": "7479dc0c-bc89-4b34-bc95-d4095e187e51",
   "metadata": {},
   "outputs": [],
   "source": [
    "nilai_andi = [50, \"kurang memenuhi\", \"bagus\", 100]"
   ]
  },
  {
   "cell_type": "code",
   "execution_count": 73,
   "id": "223c3e04-fcd0-4e2c-8cac-e28937258722",
   "metadata": {},
   "outputs": [
    {
     "name": "stdout",
     "output_type": "stream",
     "text": [
      "[50, 'kurang memenuhi', 'bagus', 100]\n"
     ]
    }
   ],
   "source": [
    "print(nilai_andi)"
   ]
  },
  {
   "cell_type": "code",
   "execution_count": 1,
   "id": "01a139e0-89ad-4048-8906-4939344e6ac8",
   "metadata": {},
   "outputs": [
    {
     "name": "stdout",
     "output_type": "stream",
     "text": [
      "['apel', 'pisang', 'jeruk', 'melon', 'pir', 'durian', 'buah naga']\n"
     ]
    }
   ],
   "source": [
    "list_buah = [\"apel\", \"pisang\", \"jeruk\", \"melon\", \"pir\", \"durian\", \"buah naga\"]\n",
    "print(list_buah)"
   ]
  },
  {
   "cell_type": "code",
   "execution_count": 3,
   "id": "18d0df22-1f26-497d-bacb-0d69a9416bd3",
   "metadata": {},
   "outputs": [
    {
     "name": "stdout",
     "output_type": "stream",
     "text": [
      "['jeruk', 'melon', 'pir', 'durian', 'buah naga']\n"
     ]
    }
   ],
   "source": [
    "print(list_buah[2:])"
   ]
  },
  {
   "cell_type": "code",
   "execution_count": 5,
   "id": "21029269-9f88-4ab7-b0b3-373d259d99dc",
   "metadata": {},
   "outputs": [
    {
     "name": "stdout",
     "output_type": "stream",
     "text": [
      "['pir', 'durian', 'buah naga']\n"
     ]
    }
   ],
   "source": [
    "print(list_buah[-3:])"
   ]
  },
  {
   "cell_type": "code",
   "execution_count": 8,
   "id": "06e3af76-ab81-459f-bd68-8ff9f04fdc63",
   "metadata": {},
   "outputs": [
    {
     "name": "stdout",
     "output_type": "stream",
     "text": [
      "['apel', 'pisang', 'salak', 'a', 'l', 'a', 'k', 'a', 'l', 'a', 'k', 'melon', 'pir', 'durian', 'buah naga']\n"
     ]
    }
   ],
   "source": [
    "list_buah[2:3] = [\"salak\"]\n",
    "print(list_buah)"
   ]
  },
  {
   "cell_type": "code",
   "execution_count": 10,
   "id": "3d710389-59e1-4f84-bfdc-be4b3ba8cb74",
   "metadata": {},
   "outputs": [
    {
     "name": "stdout",
     "output_type": "stream",
     "text": [
      "['apel', 'pisang', 'salak', 'stroberi']\n"
     ]
    }
   ],
   "source": [
    "list_buah[3:11] = [\"stroberi\"]\n",
    "print(list_buah)"
   ]
  },
  {
   "cell_type": "code",
   "execution_count": null,
   "id": "3192bf05-beda-4106-b97c-1eaa4903d9f6",
   "metadata": {},
   "outputs": [],
   "source": []
  }
 ],
 "metadata": {
  "kernelspec": {
   "display_name": "Python 3",
   "language": "python",
   "name": "python3"
  },
  "language_info": {
   "codemirror_mode": {
    "name": "ipython",
    "version": 3
   },
   "file_extension": ".py",
   "mimetype": "text/x-python",
   "name": "python",
   "nbconvert_exporter": "python",
   "pygments_lexer": "ipython3",
   "version": "3.8.8"
  }
 },
 "nbformat": 4,
 "nbformat_minor": 5
}
