{
 "cells": [
  {
   "cell_type": "code",
   "execution_count": 2,
   "id": "02993ec1-277a-4697-bc5a-fb1f009b72ef",
   "metadata": {},
   "outputs": [
    {
     "name": "stdout",
     "output_type": "stream",
     "text": [
      "kapan2 aja\n"
     ]
    }
   ],
   "source": [
    "nama = \"dinda\"\n",
    "umur = 18\n",
    "if (nama == \"Ari\" and umur >17):\n",
    "    print(\"boleh ambil KTP\")\n",
    "else:\n",
    "    print(\"kapan2 aja\")"
   ]
  },
  {
   "cell_type": "code",
   "execution_count": 3,
   "id": "c6be7546-4b3e-4707-b97e-80b6bc36713d",
   "metadata": {},
   "outputs": [
    {
     "name": "stdout",
     "output_type": "stream",
     "text": [
      "boleh ambil KTP\n"
     ]
    }
   ],
   "source": [
    "nama = \"dinda\"\n",
    "umur = 18\n",
    "if (nama == \"Ari\" or umur >17):\n",
    "    print(\"boleh ambil KTP\")\n",
    "else:\n",
    "    print(\"kapan2 aja\")"
   ]
  },
  {
   "cell_type": "markdown",
   "id": "e60f873f-f8f2-481d-ae39-12c25f0877e7",
   "metadata": {},
   "source": [
    "## nilai\n",
    "- 100 dapat A\n",
    "- 90+ dapat B\n",
    "- 80+ dapat C\n",
    "- sisanya dapat D"
   ]
  },
  {
   "cell_type": "code",
   "execution_count": 5,
   "id": "96fca455-5b27-4ebe-8662-d54d777d5e0d",
   "metadata": {},
   "outputs": [
    {
     "name": "stdout",
     "output_type": "stream",
     "text": [
      "nilai invalid\n"
     ]
    }
   ],
   "source": [
    "nilai = 101\n",
    "if(nilai > 100 or nilai < 0):\n",
    "    print(\"nilai invalid\")\n",
    "elif(nilai == 100):\n",
    "    print(\"dapat A\")\n",
    "elif(nilai > 90):\n",
    "    print(\"dapat B\")\n",
    "elif(nilai > 80):\n",
    "    print(\"dapat C\")\n",
    "else:\n",
    "    print(\"dapat D\")"
   ]
  },
  {
   "cell_type": "code",
   "execution_count": 9,
   "id": "61773741-aefa-4abf-b22d-bab4dd7c4bd2",
   "metadata": {},
   "outputs": [
    {
     "name": "stdout",
     "output_type": "stream",
     "text": [
      "dapat C\n",
      "tidak lulus\n"
     ]
    }
   ],
   "source": [
    "nilai = 85\n",
    "absensi = 4\n",
    "if(nilai > 100 or nilai < 0):\n",
    "    print(\"nilai invalid\")\n",
    "elif(nilai == 100):\n",
    "    print(\"dapat A\")\n",
    "elif(nilai > 90):\n",
    "    print(\"dapat B\")\n",
    "elif(nilai > 80):\n",
    "    print(\"dapat C\")\n",
    "else:\n",
    "    print(\"dapat D\")\n",
    "if (nilai > 70 and absensi > 5):\n",
    "    print(\"lulus\")\n",
    "else:\n",
    "    print(\"tidak lulus\")"
   ]
  },
  {
   "cell_type": "code",
   "execution_count": 19,
   "id": "7578102d-1c48-49dd-af10-4b0ff9f86788",
   "metadata": {},
   "outputs": [
    {
     "name": "stdout",
     "output_type": "stream",
     "text": [
      "masih umur 18\n",
      "belum cukup umur utk alcohol\n",
      "masih umur 19\n",
      "belum cukup umur utk alcohol\n",
      "masih umur 20\n",
      "belum cukup umur utk alcohol\n",
      "sudah umur 21\n",
      "sudah cukup umur\n"
     ]
    }
   ],
   "source": [
    "umur = 18\n",
    "\n",
    "while (umur < 21):\n",
    "    print(\"masih umur\", umur)\n",
    "    print(\"belum cukup umur utk alcohol\")\n",
    "    umur = umur + 1\n",
    "    \n",
    "else:\n",
    "    print(\"sudah umur\", umur)\n",
    "    print(\"sudah cukup umur\")"
   ]
  },
  {
   "cell_type": "markdown",
   "id": "8436b350-c513-4160-90f7-e0f1cd1160e3",
   "metadata": {},
   "source": [
    "# nested loop\n",
    "misalkan pny 3 kamar utk dibersihin, utk stiap kamar 5kali"
   ]
  },
  {
   "cell_type": "code",
   "execution_count": 21,
   "id": "533b4494-0c72-41e5-878e-4ffd3f4d409e",
   "metadata": {},
   "outputs": [
    {
     "name": "stdout",
     "output_type": "stream",
     "text": [
      "bersihin kamar 3\n",
      "sapu ke 5\n",
      "sapu ke 4\n",
      "sapu ke 3\n",
      "sapu ke 2\n",
      "sapu ke 1\n",
      "bersihin kamar 2\n",
      "sapu ke 5\n",
      "sapu ke 4\n",
      "sapu ke 3\n",
      "sapu ke 2\n",
      "sapu ke 1\n",
      "bersihin kamar 1\n",
      "sapu ke 5\n",
      "sapu ke 4\n",
      "sapu ke 3\n",
      "sapu ke 2\n",
      "sapu ke 1\n"
     ]
    }
   ],
   "source": [
    "kamar = 3\n",
    "\n",
    "while (kamar >= 1):\n",
    "    print(\"bersihin kamar\", kamar)\n",
    "    \n",
    "    sapu = 5\n",
    "    while (sapu >= 1):\n",
    "        print(\"sapu ke\", sapu)\n",
    "        sapu = sapu - 1\n",
    "        \n",
    "    kamar = kamar - 1\n",
    "\n",
    "        "
   ]
  },
  {
   "cell_type": "markdown",
   "id": "4e3921ec-ec5e-4ad8-a115-f113f114bbfe",
   "metadata": {},
   "source": [
    "# while loop one-line"
   ]
  },
  {
   "cell_type": "code",
   "execution_count": 25,
   "id": "80d0bb6f-bf94-4c87-9925-64d4c760130c",
   "metadata": {},
   "outputs": [
    {
     "name": "stdout",
     "output_type": "stream",
     "text": [
      "bersihin kamar 3\n",
      "bersihin kamar 2\n",
      "bersihin kamar 1\n"
     ]
    }
   ],
   "source": [
    "kamar = 3\n",
    "\n",
    "while (kamar >= 1): print(\"bersihin kamar\", kamar); kamar = kamar - 1"
   ]
  },
  {
   "cell_type": "code",
   "execution_count": 30,
   "id": "3f7bdd20-470b-42dd-9f5d-f3735ae99148",
   "metadata": {},
   "outputs": [
    {
     "name": "stdout",
     "output_type": "stream",
     "text": [
      "buah apel\n",
      "buah pisang\n",
      "buah jeruk\n"
     ]
    }
   ],
   "source": [
    "list_buah = [\"apel\", \"pisang\", \"jeruk\"]\n",
    "\n",
    "for buah in list_buah:\n",
    "    print(\"buah \" + buah.lower())"
   ]
  },
  {
   "cell_type": "code",
   "execution_count": 32,
   "id": "0d79b2ff-712f-473c-86b4-a9dae537abee",
   "metadata": {},
   "outputs": [
    {
     "name": "stdout",
     "output_type": "stream",
     "text": [
      "nama Ari\n",
      "umur 25\n",
      "hobi ['makan', 'tidur', 'game']\n"
     ]
    }
   ],
   "source": [
    "andi = {\"nama\":\"Ari\", \"umur\":25, \"hobi\":[\"makan\", \"tidur\", \"game\"]}\n",
    "for info in andi:\n",
    "    print(info, andi[info])"
   ]
  },
  {
   "cell_type": "code",
   "execution_count": null,
   "id": "ce083fe3-6507-488b-8335-570d6a33e33c",
   "metadata": {},
   "outputs": [],
   "source": []
  }
 ],
 "metadata": {
  "kernelspec": {
   "display_name": "Python 3",
   "language": "python",
   "name": "python3"
  },
  "language_info": {
   "codemirror_mode": {
    "name": "ipython",
    "version": 3
   },
   "file_extension": ".py",
   "mimetype": "text/x-python",
   "name": "python",
   "nbconvert_exporter": "python",
   "pygments_lexer": "ipython3",
   "version": "3.8.8"
  }
 },
 "nbformat": 4,
 "nbformat_minor": 5
}
