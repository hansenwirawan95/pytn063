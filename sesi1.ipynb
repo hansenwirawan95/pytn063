{
 "cells": [
  {
   "cell_type": "code",
   "execution_count": 1,
   "metadata": {},
   "outputs": [
    {
     "name": "stdout",
     "output_type": "stream",
     "text": [
      "halo\n"
     ]
    }
   ],
   "source": [
    "print(\"halo\")"
   ]
  },
  {
   "cell_type": "markdown",
   "metadata": {},
   "source": [
    "ini sesi 1 untuk kelas python data science"
   ]
  },
  {
   "cell_type": "markdown",
   "metadata": {},
   "source": [
    "notes untuk cara tulis markdown https://www.markdownguide.org/basic-syntax/"
   ]
  },
  {
   "cell_type": "markdown",
   "metadata": {},
   "source": [
    "# Ini header\n",
    "\n",
    "ini paragraf 1, setelah baris ini kasih spasi 2 kali  \n",
    "baru enter maka sudah di baris berikut\n",
    "\n",
    "setelah enter 2 kali kita ke paragraf 2\n",
    "\n",
    "ini paragraf 3 **bold** *italic*"
   ]
  },
  {
   "cell_type": "code",
   "execution_count": 2,
   "metadata": {},
   "outputs": [
    {
     "name": "stdout",
     "output_type": "stream",
     "text": [
      "hello world\n"
     ]
    }
   ],
   "source": [
    "print(\"hello world\")"
   ]
  },
  {
   "cell_type": "markdown",
   "metadata": {},
   "source": [
    "# Python Intro - Sesi 1"
   ]
  },
  {
   "cell_type": "markdown",
   "metadata": {},
   "source": [
    "mempelajari bahasa python dimulai dari tipe data yang dikenali\n",
    "\n",
    "untuk melihat hasil code nya kita bisa pakai `print()`\n",
    "\n",
    "## Data Types\n",
    "untuk melihat tipe data kita bisa pakai `type()`  "
   ]
  },
  {
   "cell_type": "code",
   "execution_count": 3,
   "metadata": {},
   "outputs": [
    {
     "name": "stdout",
     "output_type": "stream",
     "text": [
      "5\n",
      "<class 'int'>\n"
     ]
    }
   ],
   "source": [
    "print(5)\n",
    "print(type(5))"
   ]
  },
  {
   "cell_type": "markdown",
   "metadata": {},
   "source": [
    "tipe data di python diberi kelompok namanya \"class\" dan disingkat juga. singkatannya:\n",
    "- integer -> int\n",
    "- float -> float\n",
    "- string -> str\n",
    "- boolean -> bool"
   ]
  },
  {
   "cell_type": "code",
   "execution_count": 4,
   "metadata": {},
   "outputs": [
    {
     "name": "stdout",
     "output_type": "stream",
     "text": [
      "5.5\n",
      "<class 'float'>\n"
     ]
    }
   ],
   "source": [
    "print(5.5)\n",
    "print(type(5.5))"
   ]
  },
  {
   "cell_type": "code",
   "execution_count": 5,
   "metadata": {},
   "outputs": [
    {
     "name": "stdout",
     "output_type": "stream",
     "text": [
      "halo 234 #$%\n",
      "<class 'str'>\n"
     ]
    }
   ],
   "source": [
    "print(\"halo 234 #$%\")\n",
    "print(type(\"halo 234 #$%\"))"
   ]
  },
  {
   "cell_type": "code",
   "execution_count": 6,
   "metadata": {},
   "outputs": [
    {
     "name": "stdout",
     "output_type": "stream",
     "text": [
      "hello\n",
      "<class 'str'>\n"
     ]
    }
   ],
   "source": [
    "print('hello')\n",
    "print(type('hello'))"
   ]
  },
  {
   "cell_type": "code",
   "execution_count": 7,
   "metadata": {},
   "outputs": [
    {
     "name": "stdout",
     "output_type": "stream",
     "text": [
      "toys R\" US \n",
      "toys R\" US \n",
      "\\\n"
     ]
    }
   ],
   "source": [
    "print('toys R\" US ')\n",
    "print(\"toys R\\\" US \")\n",
    "print(\"\\\\\")"
   ]
  },
  {
   "cell_type": "markdown",
   "metadata": {},
   "source": [
    "## Boolean\n",
    "antara `True` atau `False` saja  \n",
    "boolean adalah tipe data yang hanya punya dua jenis data"
   ]
  },
  {
   "cell_type": "code",
   "execution_count": 8,
   "metadata": {},
   "outputs": [
    {
     "name": "stdout",
     "output_type": "stream",
     "text": [
      "True\n",
      "False\n",
      "<class 'bool'>\n",
      "<class 'bool'>\n"
     ]
    }
   ],
   "source": [
    "print(True)\n",
    "print(False)\n",
    "print(type(True))\n",
    "print(type(False))"
   ]
  },
  {
   "cell_type": "markdown",
   "metadata": {},
   "source": [
    "## ubah tipe data ke tipe lain"
   ]
  },
  {
   "cell_type": "code",
   "execution_count": 9,
   "metadata": {},
   "outputs": [
    {
     "name": "stdout",
     "output_type": "stream",
     "text": [
      "5.0\n",
      "5\n",
      "True\n"
     ]
    }
   ],
   "source": [
    "# ubah integer int jadi tipe data lain\n",
    "print(float(5))\n",
    "print(str(5))\n",
    "print(bool(5))"
   ]
  },
  {
   "cell_type": "code",
   "execution_count": 10,
   "metadata": {},
   "outputs": [
    {
     "name": "stdout",
     "output_type": "stream",
     "text": [
      "5\n",
      "5.175\n",
      "True\n"
     ]
    }
   ],
   "source": [
    "# ubah float jadi tipe data lain\n",
    "print(int(5.975))\n",
    "print(str(5.175))\n",
    "print(bool(5.175))"
   ]
  },
  {
   "cell_type": "code",
   "execution_count": 11,
   "metadata": {},
   "outputs": [
    {
     "name": "stdout",
     "output_type": "stream",
     "text": [
      "50\n",
      "50.0\n",
      "True\n"
     ]
    }
   ],
   "source": [
    "# ubah string str jadi tipe data lain\n",
    "print(int(\"50\"))\n",
    "print(float(\"50\"))\n",
    "print(bool(\"50\"))"
   ]
  },
  {
   "cell_type": "code",
   "execution_count": 12,
   "metadata": {},
   "outputs": [
    {
     "name": "stdout",
     "output_type": "stream",
     "text": [
      "1\n",
      "1.0\n",
      "True\n"
     ]
    }
   ],
   "source": [
    "# ubah boolean bool jadi tipe data lain\n",
    "print(int(True))\n",
    "print(float(True))\n",
    "print(str(True))"
   ]
  },
  {
   "cell_type": "code",
   "execution_count": 13,
   "metadata": {},
   "outputs": [
    {
     "name": "stdout",
     "output_type": "stream",
     "text": [
      "0\n",
      "0.0\n",
      "False\n"
     ]
    }
   ],
   "source": [
    "print(int(False))\n",
    "print(float(False))\n",
    "print(str(False))"
   ]
  },
  {
   "cell_type": "code",
   "execution_count": 14,
   "metadata": {},
   "outputs": [
    {
     "name": "stdout",
     "output_type": "stream",
     "text": [
      "False\n"
     ]
    }
   ],
   "source": [
    "# string yang kosong \"\" kutip saja, dianggap False\n",
    "print(bool(\"\"))"
   ]
  },
  {
   "cell_type": "code",
   "execution_count": 15,
   "metadata": {},
   "outputs": [
    {
     "data": {
      "text/plain": [
       "True"
      ]
     },
     "execution_count": 15,
     "metadata": {},
     "output_type": "execute_result"
    }
   ],
   "source": [
    "5\n",
    "5.0\n",
    "\"lima\"\n",
    "True"
   ]
  },
  {
   "cell_type": "markdown",
   "metadata": {},
   "source": [
    "Kita bisa simpan datanya ke dalam sebuah variable  \n",
    "seperti memberi nama ke datanya\n",
    "\n",
    "contoh:  \n",
    "`nilai_budi = 80`\n",
    "\n",
    "kita membuat variable bernama \"nilai_budi\" dan memberi data integer \"80\" ke variable tersebut\n",
    "\n",
    "# Variable Assignment"
   ]
  },
  {
   "cell_type": "code",
   "execution_count": 20,
   "metadata": {},
   "outputs": [],
   "source": [
    "n = 300"
   ]
  },
  {
   "cell_type": "code",
   "execution_count": 21,
   "metadata": {},
   "outputs": [
    {
     "name": "stdout",
     "output_type": "stream",
     "text": [
      "300\n"
     ]
    }
   ],
   "source": [
    "print(n)"
   ]
  },
  {
   "cell_type": "code",
   "execution_count": 22,
   "metadata": {},
   "outputs": [],
   "source": [
    "# variable re-assignment\n",
    "n = \"halo\""
   ]
  },
  {
   "cell_type": "code",
   "execution_count": 23,
   "metadata": {},
   "outputs": [
    {
     "name": "stdout",
     "output_type": "stream",
     "text": [
      "halo\n"
     ]
    }
   ],
   "source": [
    "print(n)"
   ]
  },
  {
   "cell_type": "code",
   "execution_count": 25,
   "metadata": {},
   "outputs": [],
   "source": [
    "m = True"
   ]
  },
  {
   "cell_type": "code",
   "execution_count": 26,
   "metadata": {},
   "outputs": [
    {
     "name": "stdout",
     "output_type": "stream",
     "text": [
      "halo\n"
     ]
    }
   ],
   "source": [
    "print(n)"
   ]
  },
  {
   "cell_type": "code",
   "execution_count": 27,
   "metadata": {},
   "outputs": [
    {
     "name": "stdout",
     "output_type": "stream",
     "text": [
      "halo True\n"
     ]
    }
   ],
   "source": [
    "print(n, m)"
   ]
  },
  {
   "cell_type": "code",
   "execution_count": 31,
   "metadata": {},
   "outputs": [
    {
     "name": "stdout",
     "output_type": "stream",
     "text": [
      "10\n",
      "25\n"
     ]
    }
   ],
   "source": [
    "print(n) \n",
    "print(m)"
   ]
  },
  {
   "cell_type": "code",
   "execution_count": 32,
   "metadata": {},
   "outputs": [
    {
     "name": "stdout",
     "output_type": "stream",
     "text": [
      "10\n",
      "25\n"
     ]
    }
   ],
   "source": [
    "n = 10\n",
    "m = 25\n",
    "print(n)\n",
    "print(m)"
   ]
  },
  {
   "cell_type": "markdown",
   "metadata": {},
   "source": [
    "# Peraturan nama variable\n",
    "- tidak boleh dimulai dengan angka 0-9\n",
    "```python\n",
    "10andi = 75\n",
    "```\n",
    "ini akan memberi error\n",
    "- huruf kecil semua  \n",
    "    huruf besar atau kecil bagi python adalah variable yang berbeda. jadi kita samakan huruf kecil semua biar gk lupa\n",
    "- spasi diubah jadi _   \n",
    "    \n",
    "    selain spasi tidak boleh pakai _ , dan semua spasi kita gantikan jadi _"
   ]
  },
  {
   "cell_type": "code",
   "execution_count": 35,
   "metadata": {},
   "outputs": [
    {
     "name": "stdout",
     "output_type": "stream",
     "text": [
      "1\n",
      "2\n",
      "3\n",
      "4\n",
      "5\n",
      "6\n"
     ]
    }
   ],
   "source": [
    "nilai_andi = 1\n",
    "nilai_Andi = 2\n",
    "NILAI_andi = 3\n",
    "nilai_ANDI = 4\n",
    "NilaiAndi = 5\n",
    "nilaiAndi = 6\n",
    "\n",
    "print(nilai_andi)\n",
    "print(nilai_Andi)\n",
    "print(NILAI_andi)\n",
    "print(nilai_ANDI)\n",
    "print(NilaiAndi)\n",
    "print(nilaiAndi)"
   ]
  },
  {
   "cell_type": "code",
   "execution_count": 36,
   "metadata": {},
   "outputs": [
    {
     "name": "stdout",
     "output_type": "stream",
     "text": [
      "7\n",
      "8\n",
      "9\n",
      "10\n",
      "11\n"
     ]
    }
   ],
   "source": [
    "nilaiandi = 7\n",
    "nilai_andi = 8\n",
    "nilaiandi_ = 9\n",
    "_nilaiandi = 10\n",
    "_nilai_andi_ = 11\n",
    "\n",
    "print(nilaiandi)\n",
    "print(nilai_andi)\n",
    "print(nilaiandi_)\n",
    "print(_nilaiandi)\n",
    "print(_nilai_andi_)"
   ]
  },
  {
   "cell_type": "markdown",
   "metadata": {},
   "source": [
    "dengan mengikuti rule, cara kita tulis variable untuk nilai andi menjadi selalu\n",
    "`nilai_andi`"
   ]
  },
  {
   "cell_type": "markdown",
   "metadata": {},
   "source": [
    "# Operators in Python\n",
    "\n",
    "## Arithmetic Operators\n",
    "`+ - * / % **`\n",
    "- % modulo adalah pembagian yang disimpan sisanya saja  \n",
    "    contoh: 5 bagi 3 adalah 1 sisa 2, jadi 5 % 3 = 2\n",
    "- ** adalah pangkat"
   ]
  },
  {
   "cell_type": "code",
   "execution_count": 39,
   "metadata": {},
   "outputs": [
    {
     "name": "stdout",
     "output_type": "stream",
     "text": [
      "15\n",
      "-5\n",
      "50\n",
      "0.5\n"
     ]
    }
   ],
   "source": [
    "print(5 + 10)\n",
    "print(5 - 10)\n",
    "print(5 * 10)\n",
    "print(5 / 10)"
   ]
  },
  {
   "cell_type": "code",
   "execution_count": 42,
   "metadata": {},
   "outputs": [
    {
     "name": "stdout",
     "output_type": "stream",
     "text": [
      "2\n",
      "125\n"
     ]
    }
   ],
   "source": [
    "print(5 % 3)\n",
    "print(5 ** 3)"
   ]
  },
  {
   "cell_type": "code",
   "execution_count": 47,
   "metadata": {},
   "outputs": [
    {
     "name": "stdout",
     "output_type": "stream",
     "text": [
      "15\n",
      "-5\n",
      "50\n",
      "0.5\n",
      "2\n",
      "125\n"
     ]
    }
   ],
   "source": [
    "a = 5\n",
    "b = 10\n",
    "\n",
    "print(a + b)\n",
    "print(a - b)\n",
    "print(a * b)\n",
    "print(a / b)\n",
    "\n",
    "b = 3\n",
    "print(a % b)\n",
    "print(a ** b)"
   ]
  },
  {
   "cell_type": "markdown",
   "metadata": {},
   "source": [
    "## Operator aritmatik di string\n",
    "hanya ada `+` dan `*`"
   ]
  },
  {
   "cell_type": "code",
   "execution_count": 51,
   "metadata": {},
   "outputs": [
    {
     "name": "stdout",
     "output_type": "stream",
     "text": [
      "selamat malam andi\n",
      "halo halo bandung\n",
      "selamat malam, selamat malam\n"
     ]
    }
   ],
   "source": [
    "salam = \"selamat malam\"\n",
    "print(salam + \" andi\")\n",
    "print(\"halo \" + \"halo\" + \" bandung\")\n",
    "print(salam + \", \" +salam)"
   ]
  },
  {
   "cell_type": "code",
   "execution_count": 52,
   "metadata": {},
   "outputs": [
    {
     "name": "stdout",
     "output_type": "stream",
     "text": [
      "halohalohalohalohalohalohalohalohalohalo\n"
     ]
    }
   ],
   "source": [
    "print(\"halo\" * 10)"
   ]
  },
  {
   "cell_type": "markdown",
   "metadata": {},
   "source": [
    "## Comparison Operators\n",
    "\n",
    "- `==` sama dengan `5 == 10`-> False\n",
    "- `<` lebih kecil `5 < 10` -> True\n",
    "- `>` lebih besar `5 > 10` -> False\n",
    "- `<=` lebih kecil atau sama dengan `5 <= 10` -> True\n",
    "- `>=` lebih besar atau sama dengan `5 >= 10` -> False\n",
    "\n",
    "membandingkan dua data/ variable dan memberi tau True atau False  \n",
    "hasil dari comparison operator selalu boolean, True atau False"
   ]
  },
  {
   "cell_type": "code",
   "execution_count": 49,
   "metadata": {},
   "outputs": [
    {
     "name": "stdout",
     "output_type": "stream",
     "text": [
      "a <= 10 True\n"
     ]
    }
   ],
   "source": [
    "a = 5\n",
    "b = 10\n",
    "\n",
    "print(\"a <= 10\", a <= 10)"
   ]
  },
  {
   "cell_type": "code",
   "execution_count": 65,
   "metadata": {},
   "outputs": [
    {
     "name": "stdout",
     "output_type": "stream",
     "text": [
      "False\n",
      "True\n",
      "apel > halo False\n"
     ]
    }
   ],
   "source": [
    "a = \"apel\"\n",
    "b = \"halo\"\n",
    "\n",
    "print(a == b)\n",
    "print(a < b)\n",
    "print(a, \">\", b, a > b)"
   ]
  },
  {
   "cell_type": "markdown",
   "metadata": {},
   "source": [
    "perbandingan comparison operator dengan string, diurutkan secara abjad. Pastikan huruf nya besar semua atau kecil semua, karena huruf besar dan huruf kecil dianggap berbeda, dengan urutan yang bebeda. contohnya a kecil lebih besar dibanding A besar."
   ]
  },
  {
   "cell_type": "markdown",
   "metadata": {},
   "source": [
    "## ubah case string\n",
    "case itu huruf kecil (lower case) atau huruf besar (UPPER CASE), dan lainnya:\n",
    "- lower case\n",
    "- UPPER CASE\n",
    "- Title Case"
   ]
  },
  {
   "cell_type": "code",
   "execution_count": 66,
   "metadata": {},
   "outputs": [
    {
     "name": "stdout",
     "output_type": "stream",
     "text": [
      "selamat malam, selamat datang ke kelas python hacktiv8\n"
     ]
    }
   ],
   "source": [
    "message = \"selamat Malam, selamat datang ke kelas PYTHON Hacktiv8\"\n",
    "\n",
    "# lower case\n",
    "print(message.lower())"
   ]
  },
  {
   "cell_type": "code",
   "execution_count": 67,
   "metadata": {},
   "outputs": [
    {
     "name": "stdout",
     "output_type": "stream",
     "text": [
      "SELAMAT MALAM, SELAMAT DATANG KE KELAS PYTHON HACKTIV8\n"
     ]
    }
   ],
   "source": [
    "# UPPER CASE\n",
    "print(message.upper())"
   ]
  },
  {
   "cell_type": "code",
   "execution_count": 68,
   "metadata": {},
   "outputs": [
    {
     "name": "stdout",
     "output_type": "stream",
     "text": [
      "Selamat Malam, Selamat Datang Ke Kelas Python Hacktiv8\n"
     ]
    }
   ],
   "source": [
    "# Title Case\n",
    "print(message.title())"
   ]
  },
  {
   "cell_type": "code",
   "execution_count": 70,
   "metadata": {},
   "outputs": [
    {
     "name": "stdout",
     "output_type": "stream",
     "text": [
      "SELAMAT mALAM, SELAMAT DATANG KE KELAS python hACKTIV8\n"
     ]
    }
   ],
   "source": [
    "# sWAP cAsE -> tukar huruf kecil jadi besar, besar jadi kecil\n",
    "print(message.swapcase())"
   ]
  },
  {
   "cell_type": "code",
   "execution_count": 71,
   "metadata": {},
   "outputs": [
    {
     "name": "stdout",
     "output_type": "stream",
     "text": [
      "Selamat malam, selamat datang ke kelas python hacktiv8\n"
     ]
    }
   ],
   "source": [
    "# Capitalize case -> ubah huruf pertama jadi besar, huruf lainnya jadi kecil\n",
    "print(message.capitalize())"
   ]
  },
  {
   "cell_type": "markdown",
   "metadata": {},
   "source": [
    "# Tipe data terstruktur\n",
    "- List\n",
    "- Tuple\n",
    "- Dictionary"
   ]
  },
  {
   "cell_type": "code",
   "execution_count": 73,
   "metadata": {},
   "outputs": [],
   "source": [
    "andi_assignment_1 = 60\n",
    "andi_assignment_2 = 70\n",
    "andi_assignment_3 = 80\n",
    "andi_assignment_4 = 75\n",
    "\n",
    "budi_assignment_1 = 90\n",
    "budi_assignment_2 = 100\n",
    "budi_assignment_3 = 85\n",
    "budi_assignment_4 = 88"
   ]
  },
  {
   "cell_type": "markdown",
   "metadata": {},
   "source": [
    "# List\n",
    "simpan banyak data di satu tempat [ ]\n",
    "- pakai kurung kotak []\n",
    "- setiap data di dalam kurung kotaknya dipisah dengan koma ,"
   ]
  },
  {
   "cell_type": "code",
   "execution_count": 74,
   "metadata": {},
   "outputs": [],
   "source": [
    "nilai_andi = [60, 70, 80, 75]"
   ]
  },
  {
   "cell_type": "code",
   "execution_count": 75,
   "metadata": {},
   "outputs": [
    {
     "name": "stdout",
     "output_type": "stream",
     "text": [
      "[60, 70, 80, 75]\n"
     ]
    }
   ],
   "source": [
    "print(nilai_andi)"
   ]
  },
  {
   "cell_type": "markdown",
   "metadata": {},
   "source": [
    "## Indexing\n",
    "menggunakan angka urut index mulai dari 0 untuk mengambil satu data di dalam list  \n",
    "`nama_list[angka_index]`"
   ]
  },
  {
   "cell_type": "code",
   "execution_count": 76,
   "metadata": {},
   "outputs": [
    {
     "name": "stdout",
     "output_type": "stream",
     "text": [
      "60\n"
     ]
    }
   ],
   "source": [
    "# data pertama dalam list nilai_andi\n",
    "print(nilai_andi[0])"
   ]
  },
  {
   "cell_type": "code",
   "execution_count": 77,
   "metadata": {},
   "outputs": [
    {
     "name": "stdout",
     "output_type": "stream",
     "text": [
      "70\n"
     ]
    }
   ],
   "source": [
    "# data kedua dalam list nilai_andi\n",
    "print(nilai_andi[1])"
   ]
  },
  {
   "cell_type": "code",
   "execution_count": 80,
   "metadata": {},
   "outputs": [
    {
     "name": "stdout",
     "output_type": "stream",
     "text": [
      "75\n"
     ]
    }
   ],
   "source": [
    "# ambil data terakhir\n",
    "print(nilai_andi[-1])"
   ]
  },
  {
   "cell_type": "code",
   "execution_count": 89,
   "metadata": {},
   "outputs": [
    {
     "name": "stdout",
     "output_type": "stream",
     "text": [
      "[60, 70, 80, 100]\n"
     ]
    }
   ],
   "source": [
    "# re assign bisa satu satu pakai indexing\n",
    "# nilai andi yang terakhir ternyata 100\n",
    "nilai_andi[-1] = 100\n",
    "\n",
    "print(nilai_andi)"
   ]
  },
  {
   "cell_type": "markdown",
   "metadata": {},
   "source": [
    "- List itu urut, yang kita tulis duluan, urutannya tetap duluan\n",
    "- data dalam List bisa tipe data apapun, **apapun** termasuk List lagi"
   ]
  },
  {
   "cell_type": "code",
   "execution_count": 78,
   "metadata": {},
   "outputs": [
    {
     "name": "stdout",
     "output_type": "stream",
     "text": [
      "[0, 23.456, [], True, 'haloo', [60, 70, 80, 75]]\n"
     ]
    }
   ],
   "source": [
    "list_campur = [0, 23.456, [], True, \"haloo\", nilai_andi]\n",
    "print(list_campur)"
   ]
  },
  {
   "cell_type": "markdown",
   "metadata": {},
   "source": [
    "## Slicing\n",
    "ambil beberapa data sekaligus dari sebuah List"
   ]
  },
  {
   "cell_type": "code",
   "execution_count": 79,
   "metadata": {},
   "outputs": [
    {
     "name": "stdout",
     "output_type": "stream",
     "text": [
      "[60, 70]\n"
     ]
    }
   ],
   "source": [
    "# data pertama dan kedua dalam list nilai_andi\n",
    "print(nilai_andi[0:2])"
   ]
  },
  {
   "cell_type": "code",
   "execution_count": 81,
   "metadata": {},
   "outputs": [
    {
     "name": "stdout",
     "output_type": "stream",
     "text": [
      "['apel', 'pisang', 'jeruk', 'melon', 'pir', 'durian', 'buah naga']\n"
     ]
    }
   ],
   "source": [
    "list_buah = [\"apel\", \"pisang\", \"jeruk\", \"melon\", \"pir\", \"durian\", \"buah naga\"]\n",
    "print(list_buah)"
   ]
  },
  {
   "cell_type": "code",
   "execution_count": 85,
   "metadata": {},
   "outputs": [
    {
     "name": "stdout",
     "output_type": "stream",
     "text": [
      "['jeruk', 'melon', 'pir', 'durian', 'buah naga']\n"
     ]
    }
   ],
   "source": [
    "# ambil dari jeruk sampai habis\n",
    "print(list_buah[2:])"
   ]
  },
  {
   "cell_type": "code",
   "execution_count": 86,
   "metadata": {},
   "outputs": [
    {
     "name": "stdout",
     "output_type": "stream",
     "text": [
      "['pir', 'durian', 'buah naga']\n"
     ]
    }
   ],
   "source": [
    "# ambil 3 buah terakhir\n",
    "print(list_buah[-3:])"
   ]
  },
  {
   "cell_type": "code",
   "execution_count": 87,
   "metadata": {},
   "outputs": [
    {
     "name": "stdout",
     "output_type": "stream",
     "text": [
      "['apel', 'pisang', 'jeruk']\n"
     ]
    }
   ],
   "source": [
    "# ambil 3 buah pertama\n",
    "print(list_buah[:3])"
   ]
  },
  {
   "cell_type": "code",
   "execution_count": 88,
   "metadata": {},
   "outputs": [
    {
     "name": "stdout",
     "output_type": "stream",
     "text": [
      "['jeruk', 'melon', 'pir']\n"
     ]
    }
   ],
   "source": [
    "# ambil 3 buah dari jeruk ke belakang\n",
    "print(list_buah[2:5])"
   ]
  },
  {
   "cell_type": "code",
   "execution_count": 90,
   "metadata": {},
   "outputs": [
    {
     "name": "stdout",
     "output_type": "stream",
     "text": [
      "['apel', 'pisang', 'salak', 'durian', 'buah naga']\n"
     ]
    }
   ],
   "source": [
    "# re - assign juga bisa banyak sekaligus\n",
    "# 3 buah dari jeruk ke belakang, diganti jadi \"salak\"\n",
    "list_buah[2:5] = [\"salak\"]\n",
    "\n",
    "print(list_buah)"
   ]
  },
  {
   "cell_type": "code",
   "execution_count": 92,
   "metadata": {},
   "outputs": [
    {
     "name": "stdout",
     "output_type": "stream",
     "text": [
      "['apel', 'pisang', 'duku', 'lengkeng', 'nanas', 'durian', 'buah naga']\n"
     ]
    }
   ],
   "source": [
    "# ubah salak jadi 3 buah berbeda\n",
    "list_buah[2:3] = [\"duku\", \"lengkeng\", \"nanas\"]\n",
    "\n",
    "print(list_buah)"
   ]
  },
  {
   "cell_type": "markdown",
   "metadata": {},
   "source": [
    "### lihat ada berapa item dalam sebuah List\n",
    "`len()`"
   ]
  },
  {
   "cell_type": "code",
   "execution_count": 82,
   "metadata": {},
   "outputs": [
    {
     "name": "stdout",
     "output_type": "stream",
     "text": [
      "7\n"
     ]
    }
   ],
   "source": [
    "print(len(list_buah))"
   ]
  },
  {
   "cell_type": "code",
   "execution_count": 83,
   "metadata": {},
   "outputs": [
    {
     "name": "stdout",
     "output_type": "stream",
     "text": [
      "4\n"
     ]
    }
   ],
   "source": [
    "print(len(nilai_andi))"
   ]
  },
  {
   "cell_type": "markdown",
   "metadata": {},
   "source": [
    "# Cek apakah ada data tertentu dalam sebuah List"
   ]
  },
  {
   "cell_type": "code",
   "execution_count": 93,
   "metadata": {},
   "outputs": [
    {
     "name": "stdout",
     "output_type": "stream",
     "text": [
      "False\n"
     ]
    }
   ],
   "source": [
    "# apakah ada \"pir\" di dalam list_buah?\n",
    "print(\"pir\" in list_buah)"
   ]
  },
  {
   "cell_type": "code",
   "execution_count": 94,
   "metadata": {},
   "outputs": [
    {
     "name": "stdout",
     "output_type": "stream",
     "text": [
      "True\n"
     ]
    }
   ],
   "source": [
    "# apakah ada \"duku\" di dalam list_buah?\n",
    "print(\"duku\" in list_buah)"
   ]
  },
  {
   "cell_type": "markdown",
   "metadata": {},
   "source": [
    "### sekalian cek dia index ke berapa"
   ]
  },
  {
   "cell_type": "code",
   "execution_count": 95,
   "metadata": {},
   "outputs": [
    {
     "name": "stdout",
     "output_type": "stream",
     "text": [
      "2\n"
     ]
    }
   ],
   "source": [
    "# \"duku\" ada di index ke berapa di list_buah\n",
    "print(list_buah.index(\"duku\"))"
   ]
  },
  {
   "cell_type": "code",
   "execution_count": 96,
   "metadata": {},
   "outputs": [
    {
     "name": "stdout",
     "output_type": "stream",
     "text": [
      "duku\n"
     ]
    }
   ],
   "source": [
    "print(list_buah[2])"
   ]
  },
  {
   "cell_type": "markdown",
   "metadata": {},
   "source": [
    "```python\n",
    "# \"pir\" ada di index ke berapa di list_buah\n",
    "print(list_buah.index(\"pir\"))\n",
    "```\n",
    "error karena tidak ada \"pir\" di dalam list_buah"
   ]
  },
  {
   "cell_type": "markdown",
   "metadata": {},
   "source": [
    "## Cek apakah ada karakter tertentu dalam sebuah string"
   ]
  },
  {
   "cell_type": "code",
   "execution_count": 98,
   "metadata": {},
   "outputs": [
    {
     "name": "stdout",
     "output_type": "stream",
     "text": [
      "selamat Malam, selamat datang ke kelas PYTHON Hacktiv8\n"
     ]
    }
   ],
   "source": [
    "print(message)"
   ]
  },
  {
   "cell_type": "code",
   "execution_count": 99,
   "metadata": {},
   "outputs": [
    {
     "name": "stdout",
     "output_type": "stream",
     "text": [
      "False\n"
     ]
    }
   ],
   "source": [
    "# apakah ada Python dalam message?\n",
    "print(\"Python\" in message)"
   ]
  },
  {
   "cell_type": "code",
   "execution_count": 100,
   "metadata": {},
   "outputs": [
    {
     "name": "stdout",
     "output_type": "stream",
     "text": [
      "True\n"
     ]
    }
   ],
   "source": [
    "# biasanya kita samakan case nya biar ketemu\n",
    "print(\"Python\".lower() in message.lower())"
   ]
  },
  {
   "cell_type": "code",
   "execution_count": 101,
   "metadata": {},
   "outputs": [
    {
     "name": "stdout",
     "output_type": "stream",
     "text": [
      "True\n"
     ]
    }
   ],
   "source": [
    "print(\"python\" in \"selamat malam, selamat datang ke kelas python hacktiv8\")"
   ]
  },
  {
   "cell_type": "code",
   "execution_count": 102,
   "metadata": {},
   "outputs": [
    {
     "name": "stdout",
     "output_type": "stream",
     "text": [
      "True\n"
     ]
    }
   ],
   "source": [
    "# apakah ada karakter 8 dalam message?\n",
    "print(\"8\" in message)"
   ]
  },
  {
   "cell_type": "markdown",
   "metadata": {},
   "source": [
    "## Nambah item dan Hapus item dari List\n",
    "- append\n",
    "- remove"
   ]
  },
  {
   "cell_type": "code",
   "execution_count": 103,
   "metadata": {},
   "outputs": [
    {
     "name": "stdout",
     "output_type": "stream",
     "text": [
      "['apel', 'pisang', 'duku', 'lengkeng', 'nanas', 'durian', 'buah naga']\n"
     ]
    }
   ],
   "source": [
    "print(list_buah)"
   ]
  },
  {
   "cell_type": "code",
   "execution_count": 104,
   "metadata": {},
   "outputs": [
    {
     "name": "stdout",
     "output_type": "stream",
     "text": [
      "['apel', 'pisang', 'duku', 'lengkeng', 'nanas', 'durian', 'buah naga', 'semangka']\n"
     ]
    }
   ],
   "source": [
    "list_buah.append(\"semangka\")\n",
    "print(list_buah)"
   ]
  },
  {
   "cell_type": "code",
   "execution_count": 106,
   "metadata": {},
   "outputs": [
    {
     "name": "stdout",
     "output_type": "stream",
     "text": [
      "['apel', 'duku', 'lengkeng', 'nanas', 'durian', 'buah naga', 'semangka']\n"
     ]
    }
   ],
   "source": [
    "list_buah.remove(\"pisang\")\n",
    "print(list_buah)"
   ]
  },
  {
   "cell_type": "markdown",
   "metadata": {},
   "source": [
    "```python\n",
    "list_buah.remove(\"pir\")\n",
    "print(list_buah)\n",
    "```\n",
    "akan error karena tidak ada \"pir\" di dalam list_buah"
   ]
  },
  {
   "cell_type": "markdown",
   "metadata": {},
   "source": [
    "masih ada banyak fungsi list lainnya yang bisa dilakukan, boleh dicoba dengan melihat di https://www.w3schools.com/python/python_lists.asp contoh pemakaiannya"
   ]
  },
  {
   "cell_type": "markdown",
   "metadata": {},
   "source": [
    "# Tuple\n",
    "mirip list   \n",
    "tapi tidak bisa di re-assign item nya"
   ]
  },
  {
   "cell_type": "code",
   "execution_count": 108,
   "metadata": {},
   "outputs": [
    {
     "name": "stdout",
     "output_type": "stream",
     "text": [
      "['apel', 'duku', 'lengkeng', 'nanas', 'durian', 'buah naga', 'semangka']\n"
     ]
    }
   ],
   "source": [
    "print(list_buah)"
   ]
  },
  {
   "cell_type": "code",
   "execution_count": 109,
   "metadata": {},
   "outputs": [
    {
     "name": "stdout",
     "output_type": "stream",
     "text": [
      "['APEL', 'duku', 'lengkeng', 'nanas', 'durian', 'buah naga', 'semangka']\n"
     ]
    }
   ],
   "source": [
    "# re-assign list_buah\n",
    "list_buah[0] = \"APEL\"\n",
    "print(list_buah)"
   ]
  },
  {
   "cell_type": "code",
   "execution_count": 110,
   "metadata": {},
   "outputs": [
    {
     "name": "stdout",
     "output_type": "stream",
     "text": [
      "('apel', 'duku', 'lengkeng', 'nanas', 'durian', 'buah naga', 'semangka')\n"
     ]
    }
   ],
   "source": [
    "tuple_buah = ('apel', 'duku', 'lengkeng', 'nanas', 'durian', 'buah naga', 'semangka')\n",
    "print(tuple_buah)"
   ]
  },
  {
   "cell_type": "markdown",
   "metadata": {},
   "source": [
    "```python\n",
    "# re-assign tuple_buah\n",
    "tuple_buah[0] = \"APEL\"\n",
    "print(tuple_buah)\n",
    "```\n",
    "isi tuple gak boleh di re-assign, jadi ini akan error"
   ]
  },
  {
   "cell_type": "markdown",
   "metadata": {},
   "source": [
    "biasanya dipakai untuk list yang gak mau diubah, mungkin contohnya nilai_andi"
   ]
  },
  {
   "cell_type": "markdown",
   "metadata": {},
   "source": [
    "# Dictionary\n",
    "- dibuat dengan kurung kurawal {}\n",
    "- tidak punya index, punya nya key, key ini adalah string yang menggantikan index"
   ]
  },
  {
   "cell_type": "code",
   "execution_count": 121,
   "metadata": {},
   "outputs": [
    {
     "name": "stdout",
     "output_type": "stream",
     "text": [
      "{'assignment1': 60, 'assignment2': 70, 'assignment3': 80, 'finalproject': 75}\n"
     ]
    }
   ],
   "source": [
    "nilai_andi = [60, 70, 80, 75]\n",
    "dict_nilai_andi = {\"assignment1\":60, \"assignment2\":70, \"assignment3\":80, \"finalproject\":75}\n",
    "print(dict_nilai_andi)"
   ]
  },
  {
   "cell_type": "markdown",
   "metadata": {},
   "source": [
    "## membaca sebuah value dari dictionary\n",
    "gunakan key nya"
   ]
  },
  {
   "cell_type": "code",
   "execution_count": 122,
   "metadata": {},
   "outputs": [
    {
     "name": "stdout",
     "output_type": "stream",
     "text": [
      "60\n"
     ]
    }
   ],
   "source": [
    "print(dict_nilai_andi[\"assignment1\"])"
   ]
  },
  {
   "cell_type": "markdown",
   "metadata": {},
   "source": [
    "```python\n",
    "dict_nilai_andi = {0:60, 1:70, 2:80, 3:75}\n",
    "print(dict_nilai_andi[0])\n",
    "```\n",
    "tidak direkomendasikan menggunakan dictionary untuk membuat list (maksa), key biasakan pakai string saja"
   ]
  },
  {
   "cell_type": "markdown",
   "metadata": {},
   "source": [
    "ada saatnya kita perlu tipe struktur data yang bukan List, kita perlu kasih \"key\" ke setiap datanya. contohnya, untuk simpan informasi tentang andi, andi punya umur, gender, kode peseta, dan beberapa hobi, kita bisa gunakan dictionary."
   ]
  },
  {
   "cell_type": "markdown",
   "metadata": {},
   "source": [
    "## membuat sebuah dictionary"
   ]
  },
  {
   "cell_type": "code",
   "execution_count": 126,
   "metadata": {},
   "outputs": [],
   "source": [
    "andi = {\n",
    "    \"umur\": 23, \n",
    "    \"gender\": \"M\", \n",
    "    \"kode_peserta\": \"PYTN063ONL008\", \n",
    "    \"hobi\": [\n",
    "        \"makan\",\n",
    "        \"tidur\",\n",
    "        \"main game\"\n",
    "    ], \n",
    "    \"nilai\": dict_nilai_andi,\n",
    "    \"buah_kesukaan\": list_buah\n",
    "}"
   ]
  },
  {
   "cell_type": "code",
   "execution_count": 127,
   "metadata": {},
   "outputs": [
    {
     "name": "stdout",
     "output_type": "stream",
     "text": [
      "{'umur': 23, 'gender': 'M', 'kode_peserta': 'PYTN063ONL008', 'hobi': ['makan', 'tidur', 'main game'], 'nilai': {'assignment1': 60, 'assignment2': 70, 'assignment3': 80, 'finalproject': 75}, 'buah_kesukaan': ['APEL', 'duku', 'lengkeng', 'nanas', 'durian', 'buah naga', 'semangka']}\n"
     ]
    }
   ],
   "source": [
    "print(andi)"
   ]
  },
  {
   "cell_type": "markdown",
   "metadata": {},
   "source": [
    "### membaca: ambil hobi pertama milik dictionary andi"
   ]
  },
  {
   "cell_type": "code",
   "execution_count": 135,
   "metadata": {},
   "outputs": [
    {
     "name": "stdout",
     "output_type": "stream",
     "text": [
      "['makan', 'tidur', 'main game']\n"
     ]
    }
   ],
   "source": [
    "# ambil hobi dari dictinoary andi\n",
    "print(andi[\"hobi\"])"
   ]
  },
  {
   "cell_type": "code",
   "execution_count": 136,
   "metadata": {},
   "outputs": [
    {
     "name": "stdout",
     "output_type": "stream",
     "text": [
      "makan\n"
     ]
    }
   ],
   "source": [
    "# dari hobi andi, yang merupakan List, kita ambil hobi index ke 0\n",
    "print(andi[\"hobi\"][0])"
   ]
  },
  {
   "cell_type": "code",
   "execution_count": 137,
   "metadata": {},
   "outputs": [
    {
     "name": "stdout",
     "output_type": "stream",
     "text": [
      "{'umur': 24, 'gender': 'M', 'kode_peserta': 'PYTN063ONL008', 'hobi': ['travelling', 'tidur', 'main game'], 'nilai': {'assignment1': 60, 'assignment2': 70, 'assignment3': 80, 'finalproject': 75}, 'buah_kesukaan': ['APEL', 'duku', 'lengkeng', 'nanas', 'durian', 'buah naga', 'semangka'], 'nama': 'Andhika Rahardjo'}\n"
     ]
    }
   ],
   "source": [
    "# kita bisa ubah itu makan jadi yang lain, misalnya kita ubah jadi travelling\n",
    "andi[\"hobi\"][0] = \"travelling\"\n",
    "\n",
    "print(andi)"
   ]
  },
  {
   "cell_type": "markdown",
   "metadata": {},
   "source": [
    "data yang ada di dalam dictionary selalu sepasang, sepasang `key:value`.   \n",
    "\n",
    "key selalu bentuk string  \n",
    "value boleh tipe data apapun, termasuk: boolean, string, list, dictionary, float, integer\n",
    "\n",
    "bikin sebuah dictionary boleh langsung, seperti contoh di atas bikin andi. bisa juga kita tambahkan key nya setelah dictionary dibuat"
   ]
  },
  {
   "cell_type": "code",
   "execution_count": 128,
   "metadata": {},
   "outputs": [],
   "source": [
    "# nambahin key nama ke dictionary andi\n",
    "andi[\"nama\"] = \"Andhika Rahardjo\""
   ]
  },
  {
   "cell_type": "code",
   "execution_count": 129,
   "metadata": {},
   "outputs": [
    {
     "name": "stdout",
     "output_type": "stream",
     "text": [
      "{'umur': 23, 'gender': 'M', 'kode_peserta': 'PYTN063ONL008', 'hobi': ['makan', 'tidur', 'main game'], 'nilai': {'assignment1': 60, 'assignment2': 70, 'assignment3': 80, 'finalproject': 75}, 'buah_kesukaan': ['APEL', 'duku', 'lengkeng', 'nanas', 'durian', 'buah naga', 'semangka'], 'nama': 'Andhika Rahardjo'}\n"
     ]
    }
   ],
   "source": [
    "print(andi)"
   ]
  },
  {
   "cell_type": "markdown",
   "metadata": {},
   "source": [
    "## value re-assign menggunakan key"
   ]
  },
  {
   "cell_type": "code",
   "execution_count": 130,
   "metadata": {},
   "outputs": [
    {
     "name": "stdout",
     "output_type": "stream",
     "text": [
      "{'umur': 24, 'gender': 'M', 'kode_peserta': 'PYTN063ONL008', 'hobi': ['makan', 'tidur', 'main game'], 'nilai': {'assignment1': 60, 'assignment2': 70, 'assignment3': 80, 'finalproject': 75}, 'buah_kesukaan': ['APEL', 'duku', 'lengkeng', 'nanas', 'durian', 'buah naga', 'semangka'], 'nama': 'Andhika Rahardjo'}\n"
     ]
    }
   ],
   "source": [
    "# re-assign juga bisa, value re-assign menggunakan key\n",
    "andi[\"umur\"] = 24\n",
    "print(andi)"
   ]
  },
  {
   "cell_type": "markdown",
   "metadata": {},
   "source": [
    "## menambah key ke dictionary"
   ]
  },
  {
   "cell_type": "code",
   "execution_count": 131,
   "metadata": {},
   "outputs": [
    {
     "name": "stdout",
     "output_type": "stream",
     "text": [
      "{'nama': 'Budianto Widjaja', 'umur': 32, 'gender': 'M'}\n"
     ]
    }
   ],
   "source": [
    "# bikin dictionary baru dari dictionary kosong lalu ditambahkan key satu-satu juga bisa\n",
    "budi = {}\n",
    "budi[\"nama\"] = \"Budianto Widjaja\"\n",
    "budi[\"umur\"] = 32\n",
    "budi[\"gender\"] = \"M\"\n",
    "\n",
    "print(budi)"
   ]
  },
  {
   "cell_type": "markdown",
   "metadata": {},
   "source": [
    "## hapus sebuah key dari dictionary\n",
    "del"
   ]
  },
  {
   "cell_type": "code",
   "execution_count": 132,
   "metadata": {},
   "outputs": [
    {
     "name": "stdout",
     "output_type": "stream",
     "text": [
      "{'nama': 'Budianto Widjaja', 'gender': 'M'}\n"
     ]
    }
   ],
   "source": [
    "del budi[\"umur\"]\n",
    "print(budi)"
   ]
  },
  {
   "cell_type": "markdown",
   "metadata": {},
   "source": [
    "# Github\n",
    "tempat developer biasanya simpan code online. untuk hari ini sign up account github baru dan buat 1 repository.\n",
    "https://github.com/"
   ]
  },
  {
   "cell_type": "code",
   "execution_count": null,
   "metadata": {},
   "outputs": [],
   "source": []
  }
 ],
 "metadata": {
  "kernelspec": {
   "display_name": "Python 3",
   "language": "python",
   "name": "python3"
  },
  "language_info": {
   "codemirror_mode": {
    "name": "ipython",
    "version": 3
   },
   "file_extension": ".py",
   "mimetype": "text/x-python",
   "name": "python",
   "nbconvert_exporter": "python",
   "pygments_lexer": "ipython3",
   "version": "3.8.8"
  }
 },
 "nbformat": 4,
 "nbformat_minor": 4
}
